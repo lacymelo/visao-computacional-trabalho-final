{
    "cells": [
        {
            "cell_type": "markdown",
            "metadata": {},
            "source": [
                "# Encontrar e reconhecer rostos desconhecidos em uma fotografia com base em fotografias de pessoas conhecidas"
            ]
        },
        {
            "cell_type": "code",
            "execution_count": 1,
            "metadata": {},
            "outputs": [],
            "source": [
                "import face_recognition"
            ]
        },
        {
            "cell_type": "code",
            "execution_count": 2,
            "metadata": {},
            "outputs": [],
            "source": [
                "# carregar os arquivos jpg em matrizes numpy\n",
                "papai_image = face_recognition.load_image_file(\"../../assets/perfil-papai.jpeg\")\n",
                "laciene_image = face_recognition.load_image_file(\"../../assets/assinatura.jpg\")\n",
                "unknown_image = face_recognition.load_image_file(\"../../assets/minha-foto.jpg\")"
            ]
        },
        {
            "cell_type": "code",
            "execution_count": 3,
            "metadata": {},
            "outputs": [],
            "source": [
                "# Obter as codificações faciais para cada rosto em cada arquivo de imagem\n",
                "# Como pode haver mais de um rosto em cada imagem, ela retorna uma lista de codificações.\n",
                "# Mas como sabemos que cada imagem tem apenas um rosto, nos interessa apenas a primeira codificação em cada imagem, então pegamos o índice 0.\n",
                "try:\n",
                "    papai_face_encoding = face_recognition.face_encodings(papai_image)[0]\n",
                "    laciene_face_encoding = face_recognition.face_encodings(laciene_image)[0]\n",
                "    unknown_face_encoding = face_recognition.face_encodings(unknown_image)[0]\n",
                "except IndexError:\n",
                "    print(\"Não consegui localizar rostos em pelo menos uma das imagens. Verifique os arquivos de imagem. Abortando...\")\n",
                "    quit()"
            ]
        },
        {
            "cell_type": "code",
            "execution_count": 4,
            "metadata": {},
            "outputs": [],
            "source": [
                "known_faces = [\n",
                "    papai_face_encoding,\n",
                "    laciene_face_encoding\n",
                "]"
            ]
        },
        {
            "cell_type": "code",
            "execution_count": 5,
            "metadata": {},
            "outputs": [
                {
                    "name": "stdout",
                    "output_type": "stream",
                    "text": [
                        "A foto do rosto desconhecido é do papai? False\n",
                        "A foto do rosto desconhecido é da Laciene? True\n",
                        "A foto do rosto é de uma pessoa nova que nunca vimos antes? False\n"
                    ]
                }
            ],
            "source": [
                "# results é uma lista de True/False indicando se o rosto desconhecido corresponde a alguém na lista de rostos conhecidos\n",
                "results = face_recognition.compare_faces(known_faces, unknown_face_encoding)\n",
                "\n",
                "print(\"A foto do rosto desconhecido é do papai? {}\".format(results[0]))\n",
                "print(\"A foto do rosto desconhecido é da Laciene? {}\".format(results[1]))\n",
                "print(\"A foto do rosto é de uma pessoa nova que nunca vimos antes? {}\".format(not True in results))"
            ]
        }
    ],
    "metadata": {
        "kernelspec": {
            "display_name": "virtual-environment",
            "language": "python",
            "name": "virtual-environment"
        },
        "language_info": {
            "codemirror_mode": {
                "name": "ipython",
                "version": 3
            },
            "file_extension": ".py",
            "mimetype": "text/x-python",
            "name": "python",
            "nbconvert_exporter": "python",
            "pygments_lexer": "ipython3",
            "version": "3.11.4"
        },
        "orig_nbformat": 4
    },
    "nbformat": 4,
    "nbformat_minor": 2
}
