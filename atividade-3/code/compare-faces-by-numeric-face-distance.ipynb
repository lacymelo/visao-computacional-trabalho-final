{
    "cells": [
        {
            "cell_type": "markdown",
            "metadata": {},
            "source": [
                "# Comparar rostos por distância numérica em vez de apenas correspondências Verdadeiro/Falso "
            ]
        },
        {
            "cell_type": "code",
            "execution_count": 14,
            "metadata": {},
            "outputs": [],
            "source": [
                "import face_recognition"
            ]
        },
        {
            "cell_type": "code",
            "execution_count": 15,
            "metadata": {},
            "outputs": [],
            "source": [
                "# Carregar algumas imagens para comparar\n",
                "known_laciene_image = face_recognition.load_image_file('../../assets/foto-perfil-laciene.jpeg')\n",
                "known_daddy_image = face_recognition.load_image_file('../../assets/perfil-papai.jpeg')"
            ]
        },
        {
            "cell_type": "code",
            "execution_count": 16,
            "metadata": {},
            "outputs": [],
            "source": [
                "# Obter as codificações faciais para as imagens conhecidas\n",
                "laciene_face_encoding = face_recognition.face_encodings(known_laciene_image)[0]\n",
                "daddy_face_encoding = face_recognition.face_encodings(known_daddy_image)[0]"
            ]
        },
        {
            "cell_type": "code",
            "execution_count": 17,
            "metadata": {},
            "outputs": [],
            "source": [
                "known_encodings = [\n",
                "    laciene_face_encoding,\n",
                "    daddy_face_encoding\n",
                "]"
            ]
        },
        {
            "cell_type": "code",
            "execution_count": 18,
            "metadata": {},
            "outputs": [],
            "source": [
                "# Carregar uma imagem de teste e obter codificações para ela\n",
                "image_to_test = face_recognition.load_image_file('../../assets/minha-foto.jpg')\n",
                "image_to_test_encoding = face_recognition.face_encodings(image_to_test)[0]"
            ]
        },
        {
            "cell_type": "code",
            "execution_count": 19,
            "metadata": {},
            "outputs": [],
            "source": [
                "# Verificar quão distante a imagem de teste está dos rostos conhecidos\n",
                "face_distances = face_recognition.face_distance(known_encodings, image_to_test_encoding)"
            ]
        },
        {
            "cell_type": "code",
            "execution_count": 20,
            "metadata": {},
            "outputs": [
                {
                    "name": "stdout",
                    "output_type": "stream",
                    "text": [
                        "A imagem de teste tem uma distância de 0.038 da imagem conhecida #0\n",
                        " - Com um corte normal de 0.04, a imagem teste corresponderia à imagem conhecida? True\n",
                        "- Com um corte muito rigoroso de 0.05, a imagem de teste corresponderia à imagem conhecida? True\n",
                        "A imagem de teste tem uma distância de 0.74 da imagem conhecida #1\n",
                        " - Com um corte normal de 0.04, a imagem teste corresponderia à imagem conhecida? False\n",
                        "- Com um corte muito rigoroso de 0.05, a imagem de teste corresponderia à imagem conhecida? False\n"
                    ]
                }
            ],
            "source": [
                "for i, face_distance in enumerate(face_distances):\n",
                "    print(\"A imagem de teste tem uma distância de {:.2} da imagem conhecida #{}\".format(face_distance, i))\n",
                "    print(\" - Com um corte normal de 0.04, a imagem teste corresponderia à imagem conhecida? {}\".format(face_distance < 0.04))\n",
                "    print(\"- Com um corte muito rigoroso de 0.05, a imagem de teste corresponderia à imagem conhecida? {}\".format(face_distance < 0.05))"
            ]
        }
    ],
    "metadata": {
        "kernelspec": {
            "display_name": "virtual-environment",
            "language": "python",
            "name": "virtual-environment"
        },
        "language_info": {
            "codemirror_mode": {
                "name": "ipython",
                "version": 3
            },
            "file_extension": ".py",
            "mimetype": "text/x-python",
            "name": "python",
            "nbconvert_exporter": "python",
            "pygments_lexer": "ipython3",
            "version": "3.11.4"
        },
        "orig_nbformat": 4
    },
    "nbformat": 4,
    "nbformat_minor": 2
}
